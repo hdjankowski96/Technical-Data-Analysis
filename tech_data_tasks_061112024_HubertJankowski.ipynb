{
  "nbformat": 4,
  "nbformat_minor": 0,
  "metadata": {
    "colab": {
      "provenance": []
    },
    "kernelspec": {
      "name": "python3",
      "display_name": "Python 3"
    },
    "language_info": {
      "name": "python"
    }
  },
  "cells": [
    {
      "cell_type": "markdown",
      "source": [
        "SQL"
      ],
      "metadata": {
        "id": "e_W07vLqW0UJ"
      }
    },
    {
      "cell_type": "code",
      "execution_count": 1,
      "metadata": {
        "id": "XUwQdXkrVtky",
        "colab": {
          "base_uri": "https://localhost:8080/"
        },
        "outputId": "8d866789-5d2a-4377-f2d7-caf6528db01a"
      },
      "outputs": [
        {
          "output_type": "execute_result",
          "data": {
            "text/plain": [
              "<sqlite3.Cursor at 0x7c9f4c8669c0>"
            ]
          },
          "metadata": {},
          "execution_count": 1
        }
      ],
      "source": [
        "#TASK 1\n",
        "#Set up a sample database for Employees to work with SQL exercises.\n",
        "#Database should contain the following fields: id, first_name, second_name, age, position, salary\n",
        "#Fill database with at least 5 records. You should:\n",
        "# - pass at least two different position values\n",
        "# - salaries from 1000 to 10000\n",
        "\n",
        "import sqlite3\n",
        "\n",
        "conn = sqlite3.connect('database.db')\n",
        "cursor = conn.cursor()\n",
        "cursor.execute(\"CREATE TABLE employees (id INTEGER, first_name TEXT, second_name TEXT, age INTEGER, position TEXT, salary REAL)\")"
      ]
    },
    {
      "cell_type": "code",
      "source": [
        "all_employees = [(1, \"Adam\", \"Nowak\", 28, \"samodzielny referent\", 4500), (2, \"Robert\", \"Kowalski\", 32, \"samodzielny referent\", 4800), (3, \"Aldona\", \"Bogusz\", 44, \"koordynator projektu\", 6000), (4, \"Eryk\", \"Kamiński\", 49, \"sekretarz projektu\", 4500), (5, \"Iwona\", \"Ważniacka\", 42, \"koordynator projektu\", 6000)]"
      ],
      "metadata": {
        "id": "vicTzLDdSME1"
      },
      "execution_count": 2,
      "outputs": []
    },
    {
      "cell_type": "code",
      "source": [
        "cursor.executemany(\"INSERT INTO employees (id, first_name, second_name, age, position, salary) VALUES (?, ?, ?, ?, ?, ?)\", all_employees)"
      ],
      "metadata": {
        "colab": {
          "base_uri": "https://localhost:8080/"
        },
        "id": "EpdA3XzK3NMc",
        "outputId": "3fb36cbb-fbfe-41e0-d4d0-aaf0af15ca28"
      },
      "execution_count": 3,
      "outputs": [
        {
          "output_type": "execute_result",
          "data": {
            "text/plain": [
              "<sqlite3.Cursor at 0x7c9f4c8669c0>"
            ]
          },
          "metadata": {},
          "execution_count": 3
        }
      ]
    },
    {
      "cell_type": "code",
      "source": [
        "#TASK 2\n",
        "#Write a query to retrieve all records from the Employees table, then modify the query to display only the first_name and last_name columns.\n",
        "cursor.execute(\"SELECT * FROM employees\")\n",
        "employees_list = cursor.fetchall()\n",
        "employees_list"
      ],
      "metadata": {
        "id": "nSWAitNNWSBs",
        "colab": {
          "base_uri": "https://localhost:8080/"
        },
        "outputId": "406bcadd-d65d-40ea-9b45-9384304a8700"
      },
      "execution_count": 4,
      "outputs": [
        {
          "output_type": "execute_result",
          "data": {
            "text/plain": [
              "[(1, 'Adam', 'Nowak', 28, 'samodzielny referent', 4500.0),\n",
              " (2, 'Robert', 'Kowalski', 32, 'samodzielny referent', 4800.0),\n",
              " (3, 'Aldona', 'Bogusz', 44, 'koordynator projektu', 6000.0),\n",
              " (4, 'Eryk', 'Kamiński', 49, 'sekretarz projektu', 4500.0),\n",
              " (5, 'Iwona', 'Ważniacka', 42, 'koordynator projektu', 6000.0)]"
            ]
          },
          "metadata": {},
          "execution_count": 4
        }
      ]
    },
    {
      "cell_type": "code",
      "source": [
        "cursor.execute(\"SELECT first_name, second_name FROM employees\")\n",
        "employees_names = cursor.fetchall()\n",
        "employees_names"
      ],
      "metadata": {
        "colab": {
          "base_uri": "https://localhost:8080/"
        },
        "id": "T0IjGgUG5LcH",
        "outputId": "abed471f-a138-4db7-ce5b-15eb91c77d34"
      },
      "execution_count": 5,
      "outputs": [
        {
          "output_type": "execute_result",
          "data": {
            "text/plain": [
              "[('Adam', 'Nowak'),\n",
              " ('Robert', 'Kowalski'),\n",
              " ('Aldona', 'Bogusz'),\n",
              " ('Eryk', 'Kamiński'),\n",
              " ('Iwona', 'Ważniacka')]"
            ]
          },
          "metadata": {},
          "execution_count": 5
        }
      ]
    },
    {
      "cell_type": "code",
      "source": [
        "#TASK 3\n",
        "#Write queries to:\n",
        "#TASK 3\n",
        "#Write queries to:\n",
        "\n",
        "#- Retrieve employees who work in one chosen position.\n",
        "cursor.execute(\"SELECT first_name, second_name FROM employees WHERE position = 'samodzielny referent'\")\n",
        "samodzielni_referenci = cursor.fetchall()\n",
        "samodzielni_referenci"
      ],
      "metadata": {
        "id": "p3jmikaVWXEb",
        "colab": {
          "base_uri": "https://localhost:8080/"
        },
        "outputId": "a9f3b8b1-6c2e-4fd5-f0f5-f04635259e72"
      },
      "execution_count": 6,
      "outputs": [
        {
          "output_type": "execute_result",
          "data": {
            "text/plain": [
              "[('Adam', 'Nowak'), ('Robert', 'Kowalski')]"
            ]
          },
          "metadata": {},
          "execution_count": 6
        }
      ]
    },
    {
      "cell_type": "code",
      "source": [
        "#- Retrieve employees with a salary above 5000.\n",
        "cursor.execute(\"SELECT first_name, second_name FROM employees WHERE salary > 5000\")\n",
        "najlepiej_zarabiajacy = cursor.fetchall()\n",
        "najlepiej_zarabiajacy"
      ],
      "metadata": {
        "colab": {
          "base_uri": "https://localhost:8080/"
        },
        "id": "CXQVoTKS6GQj",
        "outputId": "944c874b-02d5-4d21-ed20-9e12d6dd354d"
      },
      "execution_count": 7,
      "outputs": [
        {
          "output_type": "execute_result",
          "data": {
            "text/plain": [
              "[('Aldona', 'Bogusz'), ('Iwona', 'Ważniacka')]"
            ]
          },
          "metadata": {},
          "execution_count": 7
        }
      ]
    },
    {
      "cell_type": "code",
      "source": [
        "#TASK 4\n",
        "#Write queries to:\n",
        "\n",
        "#- Count the number of employees in each position.\n",
        "cursor.execute(\"SELECT position, COUNT(*) FROM employees GROUP BY position\")\n",
        "ile_na_stanowisku = cursor.fetchall()\n",
        "ile_na_stanowisku"
      ],
      "metadata": {
        "id": "uLENFQIvWos1",
        "colab": {
          "base_uri": "https://localhost:8080/"
        },
        "outputId": "1e004af3-e297-4588-dedf-5b7044b2d381"
      },
      "execution_count": 10,
      "outputs": [
        {
          "output_type": "execute_result",
          "data": {
            "text/plain": [
              "[('koordynator projektu', 2),\n",
              " ('samodzielny referent', 2),\n",
              " ('sekretarz projektu', 1)]"
            ]
          },
          "metadata": {},
          "execution_count": 10
        }
      ]
    },
    {
      "cell_type": "code",
      "source": [
        "#- Calculate the average salary of all employees.\n",
        "cursor.execute(\"SELECT AVG(salary) AS avg_salary FROM employees\")\n",
        "avg_salary = cursor.fetchall()\n",
        "avg_salary"
      ],
      "metadata": {
        "colab": {
          "base_uri": "https://localhost:8080/"
        },
        "id": "WugNMS2T7nFV",
        "outputId": "867e626a-ae8b-4aca-bdd9-2edbdd01173d"
      },
      "execution_count": 11,
      "outputs": [
        {
          "output_type": "execute_result",
          "data": {
            "text/plain": [
              "[(5160.0,)]"
            ]
          },
          "metadata": {},
          "execution_count": 11
        }
      ]
    },
    {
      "cell_type": "code",
      "source": [
        "#TASK 5\n",
        "#Write queries to:\n",
        "\n",
        "#- Retrieve all employees sorted by age in descending order.\n",
        "cursor.execute(\"SELECT first_name, second_name, age FROM employees ORDER BY age DESC\")\n",
        "sorted_by_age = cursor.fetchall()\n",
        "sorted_by_age"
      ],
      "metadata": {
        "id": "t93ySVoLWtQs",
        "colab": {
          "base_uri": "https://localhost:8080/"
        },
        "outputId": "89aa898c-88e4-486e-bdb9-a54067d02fcb"
      },
      "execution_count": 13,
      "outputs": [
        {
          "output_type": "execute_result",
          "data": {
            "text/plain": [
              "[('Eryk', 'Kamiński', 49),\n",
              " ('Aldona', 'Bogusz', 44),\n",
              " ('Iwona', 'Ważniacka', 42),\n",
              " ('Robert', 'Kowalski', 32),\n",
              " ('Adam', 'Nowak', 28)]"
            ]
          },
          "metadata": {},
          "execution_count": 13
        }
      ]
    },
    {
      "cell_type": "code",
      "source": [
        "#- Retrieve the top 3 highest-paid employees.\n",
        "cursor.execute(\"SELECT first_name, second_name, salary FROM employees ORDER BY salary DESC LIMIT 3\")\n",
        "top_3 = cursor.fetchall()\n",
        "top_3"
      ],
      "metadata": {
        "colab": {
          "base_uri": "https://localhost:8080/"
        },
        "id": "xg1atJ10it9f",
        "outputId": "1b7f4bb4-74e5-4381-9eb6-e7d0ebb8f039"
      },
      "execution_count": 14,
      "outputs": [
        {
          "output_type": "execute_result",
          "data": {
            "text/plain": [
              "[('Aldona', 'Bogusz', 6000.0),\n",
              " ('Iwona', 'Ważniacka', 6000.0),\n",
              " ('Robert', 'Kowalski', 4800.0)]"
            ]
          },
          "metadata": {},
          "execution_count": 14
        }
      ]
    },
    {
      "cell_type": "markdown",
      "source": [
        "REGULAR EXPRESSIONS"
      ],
      "metadata": {
        "id": "_GeN5hyqW3Y-"
      }
    },
    {
      "cell_type": "code",
      "source": [
        "#TASK 1\n",
        "#Extract full names\n",
        "\n",
        "text = \"Ms. Anna Kowalska, Mr. John Nowak, Prof. Maria Wiśniewska.\""
      ],
      "metadata": {
        "id": "yWT2uFGiXYn4"
      },
      "execution_count": 17,
      "outputs": []
    },
    {
      "cell_type": "code",
      "source": [
        "import re"
      ],
      "metadata": {
        "id": "AYxH-tK1jbPk"
      },
      "execution_count": 23,
      "outputs": []
    },
    {
      "cell_type": "code",
      "source": [
        "full_names_regex = r\"[A-Z][a-z]{2,}\\s[A-Z][a-zś]{2,}\"\n",
        "full_names = re.findall(full_names_regex, text)\n",
        "print(full_names)"
      ],
      "metadata": {
        "colab": {
          "base_uri": "https://localhost:8080/"
        },
        "id": "v7KLqQf9kcg9",
        "outputId": "04c863dd-8759-4acd-ef21-a77fef775bd0"
      },
      "execution_count": 32,
      "outputs": [
        {
          "output_type": "stream",
          "name": "stdout",
          "text": [
            "['Anna Kowalska', 'John Nowak', 'Maria Wiśniewska']\n"
          ]
        }
      ]
    },
    {
      "cell_type": "code",
      "source": [
        "#TASK 2\n",
        "#Extract abbreviations for titles and degrees (MS., MR., Prof.)\n",
        "text = \"Ms. Anna Kowalska, Mr. John Nowak, Prof. Maria Wiśniewska.\"\n",
        "\n",
        "abbreviations_regex = r\"[A-Z][a-z]+\\.\"\n",
        "abbreviations = re.findall(abbreviations_regex, text)\n",
        "print(abbreviations)"
      ],
      "metadata": {
        "id": "eQOzhiOeXguz",
        "colab": {
          "base_uri": "https://localhost:8080/"
        },
        "outputId": "c258ef2c-ea0e-409f-f4c8-27d6ce5cf6d4"
      },
      "execution_count": 31,
      "outputs": [
        {
          "output_type": "stream",
          "name": "stdout",
          "text": [
            "['Ms.', 'Mr.', 'Prof.']\n"
          ]
        }
      ]
    },
    {
      "cell_type": "code",
      "source": [
        "#TASK 3\n",
        "#Extract telephone number and email address\n",
        "text = \"My phone number is 123-456-789, and my email is test@example.com.\"\n",
        "\n",
        "phone_number_or_email_regex = r\"\\d{3}-\\d{3}-\\d{3}|[a-z]+@[a-z]+\\.[a-z]+\"\n",
        "phone_number_or_email = re.findall(phone_number_or_email_regex, text)\n",
        "print(phone_number_or_email)"
      ],
      "metadata": {
        "id": "oISM6IW6W3Di",
        "colab": {
          "base_uri": "https://localhost:8080/"
        },
        "outputId": "86a65d5b-228a-46e3-f8e8-fdbcd61959be"
      },
      "execution_count": 30,
      "outputs": [
        {
          "output_type": "stream",
          "name": "stdout",
          "text": [
            "['123-456-789', 'test@example.com']\n"
          ]
        }
      ]
    },
    {
      "cell_type": "code",
      "source": [
        "#TASK 4\n",
        "#Find all email addresses and phone numbers in a document.\n",
        "document = \"\"\"\n",
        "    Contact: john.doe@example.com, phone: (123) 456-789\n",
        "    Email: anna.nowak@company.com, phone: 987-654-321, postal code: 00-123\n",
        "\n",
        "\"\"\"\n",
        "email_or_phone_regex = r\"[a-z]+@[a-z]+\\.[a-z]+|\\(?\\d{3}\\)?[-\\s]?\\d{3}[-\\s]?\\d{3}\"\n",
        "email_or_phone = re.findall(email_or_phone_regex, document)\n",
        "print(email_or_phone)"
      ],
      "metadata": {
        "id": "lcjdcfAqX__k",
        "colab": {
          "base_uri": "https://localhost:8080/"
        },
        "outputId": "cbd4cacf-4955-4591-b90b-b0fdc3ac73f1"
      },
      "execution_count": 36,
      "outputs": [
        {
          "output_type": "stream",
          "name": "stdout",
          "text": [
            "['doe@example.com', '(123) 456-789', 'nowak@company.com', '987-654-321']\n"
          ]
        }
      ]
    },
    {
      "cell_type": "code",
      "source": [
        "#TASK 5\n",
        "#Extract URLs\n",
        "text = \"Visit https://example.com and http://another-site.org!\"\n",
        "url_regex = r\"https?://[a-z]+-?[a-z]+\\.[a-z]+\"\n",
        "url = re.findall(url_regex, text)\n",
        "print(url)"
      ],
      "metadata": {
        "id": "SBgFdehXXWp_",
        "colab": {
          "base_uri": "https://localhost:8080/"
        },
        "outputId": "589c13c7-7a7a-469d-f40e-9de4cece2309"
      },
      "execution_count": 42,
      "outputs": [
        {
          "output_type": "stream",
          "name": "stdout",
          "text": [
            "['https://example.com', 'http://another-site.org']\n"
          ]
        }
      ]
    }
  ]
}